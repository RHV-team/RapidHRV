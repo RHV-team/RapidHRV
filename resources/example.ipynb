{
 "cells": [
  {
   "cell_type": "code",
   "execution_count": null,
   "metadata": {},
   "outputs": [],
   "source": [
    "import rapidhrv as rhv\n",
    "import numpy as np\n",
    "import matplotlib.pyplot as plt"
   ]
  },
  {
   "cell_type": "code",
   "execution_count": null,
   "metadata": {
    "pycharm": {
     "name": "#%%\n"
    }
   },
   "outputs": [],
   "source": [
    "example_data = np.load(\"example_data.npy\")"
   ]
  },
  {
   "cell_type": "code",
   "execution_count": null,
   "metadata": {
    "pycharm": {
     "name": "#%%\n"
    }
   },
   "outputs": [],
   "source": [
    "sampling_rate = 250\n",
    "resample_rate = 1000\n",
    "sample_ratio = resample_rate // sampling_rate\n",
    "\n",
    "start_sample = len(example_data) // 2\n",
    "end_sample = start_sample + 100"
   ]
  },
  {
   "cell_type": "code",
   "execution_count": null,
   "metadata": {
    "pycharm": {
     "name": "#%%\n"
    }
   },
   "outputs": [],
   "source": [
    "preprocessed = rhv.preprocess(example_data, sampling_rate=sampling_rate, resample_rate=resample_rate)\n",
    "example_data_sample = example_data[start_sample:end_sample]\n",
    "preprocessed_sample = preprocessed[start_sample * sample_ratio:end_sample * sample_ratio]\n",
    "\n",
    "plt.plot(np.linspace(0, 1, len(example_data_sample)), example_data_sample)\n",
    "plt.plot(np.linspace(0, 1, len(preprocessed_sample)), preprocessed_sample)"
   ]
  },
  {
   "cell_type": "code",
   "execution_count": null,
   "metadata": {
    "pycharm": {
     "name": "#%%\n"
    }
   },
   "outputs": [],
   "source": []
  }
 ],
 "metadata": {
  "kernelspec": {
   "display_name": "Python 3",
   "language": "python",
   "name": "python3"
  },
  "language_info": {
   "codemirror_mode": {
    "name": "ipython",
    "version": 2
   },
   "file_extension": ".py",
   "mimetype": "text/x-python",
   "name": "python",
   "nbconvert_exporter": "python",
   "pygments_lexer": "ipython2",
   "version": "2.7.6"
  }
 },
 "nbformat": 4,
 "nbformat_minor": 0
}
