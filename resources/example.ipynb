{
 "cells": [
  {
   "cell_type": "code",
   "execution_count": null,
   "metadata": {},
   "outputs": [],
   "source": [
    "import rapidhrv as rhv\n",
    "import numpy as np\n",
    "import matplotlib.pyplot as plt"
   ]
  },
  {
   "cell_type": "code",
   "execution_count": null,
   "metadata": {},
   "outputs": [],
   "source": [
    "# Download example signal\n",
    "\n",
    "signal = rhv.get_example_data()"
   ]
  },
  {
   "cell_type": "code",
   "execution_count": null,
   "metadata": {},
   "outputs": [],
   "source": [
    "preprocessed = rhv.preprocess(signal)\n",
    "analyzed = rhv.analyze(preprocessed)"
   ]
  },
  {
   "cell_type": "code",
   "execution_count": null,
   "metadata": {
    "pycharm": {
     "name": "#%%\n"
    }
   },
   "outputs": [],
   "source": [
    "# Visualisation of signal preprocessing\n",
    "\n",
    "sample_ratio = preprocessed.sample_rate // signal.sample_rate\n",
    "\n",
    "start_sample = len(signal.data) // 2\n",
    "end_sample = start_sample + (10000 // sample_ratio) \n",
    "\n",
    "example_data_sample = signal.data[start_sample:end_sample]\n",
    "preprocessed_sample = preprocessed.data[start_sample * sample_ratio:end_sample * sample_ratio]\n",
    "\n",
    "plt.plot(np.linspace(0, 1, len(example_data_sample)), example_data_sample)\n",
    "plt.plot(np.linspace(0, 1, len(preprocessed_sample)), preprocessed_sample)"
   ]
  },
  {
   "cell_type": "code",
   "execution_count": null,
   "metadata": {
    "pycharm": {
     "name": "#%%\n"
    }
   },
   "outputs": [],
   "source": [
    "analyzed"
   ]
  },
  {
   "cell_type": "code",
   "execution_count": null,
   "metadata": {},
   "outputs": [],
   "source": []
  }
 ],
 "metadata": {
  "kernelspec": {
   "display_name": "Python 3 (ipykernel)",
   "language": "python",
   "name": "python3"
  },
  "language_info": {
   "codemirror_mode": {
    "name": "ipython",
    "version": 3
   },
   "file_extension": ".py",
   "mimetype": "text/x-python",
   "name": "python",
   "nbconvert_exporter": "python",
   "pygments_lexer": "ipython3",
   "version": "3.9.5"
  }
 },
 "nbformat": 4,
 "nbformat_minor": 1
}
