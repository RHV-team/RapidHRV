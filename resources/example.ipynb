{
 "cells": [
  {
   "cell_type": "code",
   "execution_count": null,
   "metadata": {},
   "outputs": [],
   "source": [
    "%load_ext autoreload\n",
    "%autoreload 2"
   ]
  },
  {
   "cell_type": "code",
   "execution_count": null,
   "metadata": {},
   "outputs": [],
   "source": [
    "import rapidhrv as rhv\n",
    "import numpy as np\n",
    "import matplotlib.pyplot as plt"
   ]
  },
  {
   "cell_type": "code",
   "execution_count": null,
   "metadata": {
    "pycharm": {
     "name": "#%%\n"
    }
   },
   "outputs": [],
   "source": [
    "# Load data from any source that can be coerced to a numpy array\n",
    "\n",
    "example_data: np.ndarray = rhv.get_example_data()\n",
    "signal = rhv.Signal(data=example_data, sample_rate=20)"
   ]
  },
  {
   "cell_type": "code",
   "execution_count": null,
   "metadata": {},
   "outputs": [],
   "source": [
    "# Serialize and deserialize `Signal` objects\n",
    "\n",
    "signal.save(\"signal.hdf5\")\n",
    "signal = rhv.Signal.load(\"signal.hdf5\")"
   ]
  },
  {
   "cell_type": "code",
   "execution_count": null,
   "metadata": {},
   "outputs": [],
   "source": [
    "preprocessed = rhv.preprocess(signal)"
   ]
  },
  {
   "cell_type": "code",
   "execution_count": null,
   "metadata": {
    "pycharm": {
     "name": "#%%\n"
    }
   },
   "outputs": [],
   "source": [
    "# Visualisation of signal preprocessing\n",
    "\n",
    "sample_ratio = preprocessed.sample_rate // signal.sample_rate\n",
    "\n",
    "start_sample = len(example_data) // 2\n",
    "end_sample = start_sample + (10000 // sample_ratio) \n",
    "\n",
    "example_data_sample = signal.data[start_sample:end_sample]\n",
    "preprocessed_sample = preprocessed.data[start_sample * sample_ratio:end_sample * sample_ratio]\n",
    "\n",
    "plt.plot(np.linspace(0, 1, len(example_data_sample)), example_data_sample)\n",
    "plt.plot(np.linspace(0, 1, len(preprocessed_sample)), preprocessed_sample)"
   ]
  },
  {
   "cell_type": "code",
   "execution_count": null,
   "metadata": {
    "pycharm": {
     "name": "#%%\n"
    }
   },
   "outputs": [],
   "source": [
    "analyzed = rhv.analyze(preprocessed)\n",
    "analyzed"
   ]
  },
  {
   "cell_type": "code",
   "execution_count": null,
   "metadata": {
    "pycharm": {
     "name": "#%%\n"
    }
   },
   "outputs": [],
   "source": []
  }
 ],
 "metadata": {
  "kernelspec": {
   "display_name": "Python 3 (ipykernel)",
   "language": "python",
   "name": "python3"
  },
  "language_info": {
   "codemirror_mode": {
    "name": "ipython",
    "version": 3
   },
   "file_extension": ".py",
   "mimetype": "text/x-python",
   "name": "python",
   "nbconvert_exporter": "python",
   "pygments_lexer": "ipython3",
   "version": "3.9.6"
  }
 },
 "nbformat": 4,
 "nbformat_minor": 1
}
