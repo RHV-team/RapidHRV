{
 "cells": [
  {
   "cell_type": "markdown",
   "metadata": {},
   "source": [
    "# RapidHRV Tutorial"
   ]
  },
  {
   "cell_type": "code",
   "execution_count": 1,
   "metadata": {},
   "outputs": [],
   "source": [
    "import rapidhrv as rhv"
   ]
  },
  {
   "cell_type": "markdown",
   "metadata": {},
   "source": [
    "We have included an example timeseries. This is a class containing a 5 minute segment of simulated PPG data and a specified sampling rate of 20Hz. This can be downloaded using the function below. When using your own data with RapidHRV however, the timeseries should be loaded into RapidHRV's Signal class with the specified sampling rate, e.g. Signal.from_csv('my_data.csv', sampling_rate=100)."
   ]
  },
  {
   "cell_type": "code",
   "execution_count": 2,
   "metadata": {},
   "outputs": [],
   "source": [
    "# Download example signal\n",
    "\n",
    "signal = rhv.get_example_data()"
   ]
  },
  {
   "cell_type": "markdown",
   "metadata": {},
   "source": [
    "Using default preprocessing, a signal will then be upsampled to 1000Hz, high-pass filtered, and smoothed. The default analysis will use 'moderate' outlier rejection constraints. This can be altered via the outlier_detection_settings argument (accepting e.g. 'liberal', 'moderate', and 'conservative'; see our manuscript for further details)."
   ]
  },
  {
   "cell_type": "code",
   "execution_count": 3,
   "metadata": {},
   "outputs": [],
   "source": [
    "# Preprocess and analyze data\n",
    "\n",
    "preprocessed = rhv.preprocess(signal)\n",
    "analyzed = rhv.analyze(preprocessed)"
   ]
  },
  {
   "cell_type": "markdown",
   "metadata": {},
   "source": [
    "The data has now been fully analyzed and be plotted using rapidhrv's visualization tool. The GUI will allow you to select HR/HRV metrics and inspect the analyzed timeseries. Individual datapoints can then be selected to view the specified windows of extraction. To access the GUI, click on the URL link outputted in the console."
   ]
  },
  {
   "cell_type": "code",
   "execution_count": null,
   "metadata": {},
   "outputs": [],
   "source": [
    "# Visualize data\n",
    "\n",
    "rhv.visualize(analyzed)"
   ]
  }
 ],
 "metadata": {
  "kernelspec": {
   "display_name": "Python 3",
   "language": "python",
   "name": "python3"
  },
  "language_info": {
   "codemirror_mode": {
    "name": "ipython",
    "version": 3
   },
   "file_extension": ".py",
   "mimetype": "text/x-python",
   "name": "python",
   "nbconvert_exporter": "python",
   "pygments_lexer": "ipython3",
   "version": "3.9.9"
  }
 },
 "nbformat": 4,
 "nbformat_minor": 1
}
