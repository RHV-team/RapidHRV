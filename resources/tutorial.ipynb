{
 "cells": [
  {
   "cell_type": "markdown",
   "metadata": {},
   "source": [
    "# RapidHRV Tutorial\n",
    "\n",
    "## Basic guide"
   ]
  },
  {
   "cell_type": "code",
   "execution_count": 1,
   "metadata": {},
   "outputs": [],
   "source": [
    "import rapidhrv as rhv"
   ]
  },
  {
   "cell_type": "markdown",
   "metadata": {},
   "source": [
    "We have included an example timeseries. This is a class containing a 5 minute segment of simulated PPG data and a specified sampling rate of 20Hz. This can be downloaded using the function below. When using your own data with RapidHRV however, the timeseries should be loaded into RapidHRV's Signal class with the specified sampling rate, e.g. Signal.from_csv('my_data.csv', sampling_rate=100)."
   ]
  },
  {
   "cell_type": "code",
   "execution_count": 2,
   "metadata": {},
   "outputs": [],
   "source": [
    "# Download example signal\n",
    "\n",
    "signal = rhv.get_example_data()"
   ]
  },
  {
   "cell_type": "markdown",
   "metadata": {},
   "source": [
    "Using default preprocessing, a signal will then be upsampled to 1000Hz, high-pass filtered, and smoothed. The default analysis will use 'moderate' outlier rejection constraints. This can be altered via the outlier_detection_settings argument (accepting e.g. 'liberal', 'moderate', and 'conservative'; see our manuscript for further details)."
   ]
  },
  {
   "cell_type": "code",
   "execution_count": 3,
   "metadata": {},
   "outputs": [],
   "source": [
    "# Preprocess and analyze data\n",
    "\n",
    "preprocessed = rhv.preprocess(signal)\n",
    "analyzed = rhv.analyze(preprocessed)"
   ]
  },
  {
   "cell_type": "markdown",
   "metadata": {},
   "source": [
    "The data has now been fully analyzed and be plotted using rapidhrv's visualization tool. The GUI will allow you to select HR/HRV metrics and inspect the analyzed timeseries. Individual datapoints can then be selected to view the specified windows of extraction. To access the GUI, click on the URL link outputted in the console."
   ]
  },
  {
   "cell_type": "code",
   "execution_count": null,
   "metadata": {},
   "outputs": [],
   "source": [
    "# Visualize data\n",
    "\n",
    "rhv.visualize(analyzed)"
   ]
  },
  {
   "cell_type": "markdown",
   "metadata": {},
   "source": [
    "## Adjusting preprocessing parameters"
   ]
  },
  {
   "cell_type": "markdown",
   "metadata": {},
   "source": [
    "The preprocessing steps implemented with RapidhRV will suffice for many uses. However, we have provided arguments which enable the user to alter preprocessing parameters. We list some examples below."
   ]
  },
  {
   "cell_type": "code",
   "execution_count": null,
   "metadata": {},
   "outputs": [],
   "source": [
    "# As RapidHRV upsamples to 1000Hz by default, this will need to be adjusted if your original sampling rate is \n",
    "# not a factor of 1000\n",
    "preprocessed = rhv.preprocess(signal, resample_rate=500) \n",
    "\n",
    "# The high-pass filter is implemented with a cutoff of 0.5Hz by default, which can be changed with highpass_cutoff.\n",
    "preprocessed = rhv.preprocess(signal, highpass_cutoff=0.05)\n",
    "\n",
    "# To clean high frequency noise, RapidHRV imeplements Savitzky-Golay smoothing. The polynomial (default 3rd order)\n",
    "# and window (default 100ms) can be changed. E.g. 4th order polynomial and a window width of 200ms:\n",
    "preprocessed = rhv.preprocess(signal, sg_settings=(4,200))\n",
    "\n",
    "# If you still want to apply low-pass filtering nonetheless (which is off by default), the user can specify a \n",
    "# frequency in the lowpass_cutoff argument to turn this on.\n",
    "preprocessed = rhv.preprocess(signal, lowpass_cutoff=50)"
   ]
  },
  {
   "cell_type": "markdown",
   "metadata": {},
   "source": [
    "## Adjusting analysis parameters"
   ]
  },
  {
   "cell_type": "markdown",
   "metadata": {},
   "source": [
    "While we have strived to make RapidHRV a modality-general package, tweaks in analysis parameters may yield more sensitivty/accuracy, particularly the stringency of outlier rejection. To make this more user friendly we allow the use of semantically-labelled arguments. Below we list recommendations for dealing with different modalities."
   ]
  },
  {
   "cell_type": "code",
   "execution_count": null,
   "metadata": {},
   "outputs": [],
   "source": [
    "# For dealing with very clean ECG data, outlier rejection does not need to be too stringent. The user can thus \n",
    "# instruct RapidHRV to take a 'liberal' approach (default=\"moderate\").  \n",
    "analyzed = rhv.analyze(preprocessed, outlier_detection_settings=\"liberal\")\n",
    "\n",
    "# This should suit in most instances. However, for dealing atypical ECG signals, we have also enabled a k-means\n",
    "# clustering algorithm to help delineate P, R, and T waves.\n",
    "analyzed = rhv.analyze(preprocessed, outlier_detection_settings=\"liberal\", ecg_prt_clustering=True)\n",
    "\n",
    "# For dealing with data with moderate artifacts, RapidHRV's default settings should typically suffice. However,\n",
    "# if the user wishes to have shorter/longer windows, with overlap between them, this can be specified. \n",
    "# For instance, to use 5 second windows with 1 second increments (4 second overlap), this can be specified by:\n",
    "analyzed = rhv.analyze(preprocessed, window_width=5, window_overlap=4)\n",
    "\n",
    "# When dealing with highly noisy data, such as PPG measures, more rigorous measures may be necessary. Here are\n",
    "# recommended parameters for dealing with such data. These reduce the minimum amplitude for peak detection to 30%\n",
    "# (from a default of 50%), increase window overlap, and apply more stringent outlier cleaning tools.\n",
    "analyzed = rhv.analyze(preprocessed, outlier_detection_settings=\"conservative\", window_overlap=9)"
   ]
  }
 ],
 "metadata": {
  "kernelspec": {
   "display_name": "Python 3",
   "language": "python",
   "name": "python3"
  },
  "language_info": {
   "codemirror_mode": {
    "name": "ipython",
    "version": 3
   },
   "file_extension": ".py",
   "mimetype": "text/x-python",
   "name": "python",
   "nbconvert_exporter": "python",
   "pygments_lexer": "ipython3",
   "version": "3.9.9"
  }
 },
 "nbformat": 4,
 "nbformat_minor": 1
}
